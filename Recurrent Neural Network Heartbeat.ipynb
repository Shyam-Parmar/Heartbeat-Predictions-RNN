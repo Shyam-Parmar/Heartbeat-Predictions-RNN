{
 "cells": [
  {
   "cell_type": "markdown",
   "metadata": {},
   "source": [
    "## Description of Variables\n",
    "\n",
    "A dataset of heartrates is used for this project. Each row represents a single measurement. Columns labeled as T1 from T80 are the time steps on the timeline (there are 80 time steps, each time step has only one measurement). \n",
    "\n",
    "The last column is the target variable. It shows the label (category) of the measurement as follows:<br>\n",
    "0 = Normal<br>\n",
    "1 = Supraventricular premature beat<br>\n",
    "2 = Premature ventricular contraction<br>\n",
    "3 = Fusion of ventricular and normal beat<br>\n",
    "4 = Unclassifiable beat"
   ]
  },
  {
   "cell_type": "markdown",
   "metadata": {},
   "source": [
    "## Goal\n",
    "\n",
    "Use the data set **hearbeat_cleaned.csv** to predict the column called **Target**. The input variables are columns labeled as **T1 to T80**. "
   ]
  },
  {
   "cell_type": "markdown",
   "metadata": {},
   "source": [
    "# Read and Prepare the Data"
   ]
  },
  {
   "cell_type": "code",
   "execution_count": 1,
   "metadata": {},
   "outputs": [],
   "source": [
    "# Import libraries\n",
    "\n",
    "import numpy as np\n",
    "import tensorflow as tf\n",
    "from tensorflow import keras\n",
    "import pandas as pd\n",
    "\n",
    "# Other Libararies\n",
    "from tensorflow.keras.callbacks import EarlyStopping\n",
    "\n",
    "# Random Seed\n",
    "np.random.seed(42)\n",
    "tf.random.set_seed(42)"
   ]
  },
  {
   "cell_type": "code",
   "execution_count": 2,
   "metadata": {},
   "outputs": [],
   "source": [
    "# Read the dataset\n",
    "\n",
    "data = pd.read_csv(r'C:\\Users\\Scott\\Downloads\\heartbeat_cleaned.csv')"
   ]
  },
  {
   "cell_type": "code",
   "execution_count": 3,
   "metadata": {},
   "outputs": [
    {
     "data": {
      "text/plain": [
       "(7960, 81)"
      ]
     },
     "execution_count": 3,
     "metadata": {},
     "output_type": "execute_result"
    }
   ],
   "source": [
    "data.shape"
   ]
  },
  {
   "cell_type": "code",
   "execution_count": 4,
   "metadata": {},
   "outputs": [
    {
     "data": {
      "text/html": [
       "<div>\n",
       "<style scoped>\n",
       "    .dataframe tbody tr th:only-of-type {\n",
       "        vertical-align: middle;\n",
       "    }\n",
       "\n",
       "    .dataframe tbody tr th {\n",
       "        vertical-align: top;\n",
       "    }\n",
       "\n",
       "    .dataframe thead th {\n",
       "        text-align: right;\n",
       "    }\n",
       "</style>\n",
       "<table border=\"1\" class=\"dataframe\">\n",
       "  <thead>\n",
       "    <tr style=\"text-align: right;\">\n",
       "      <th></th>\n",
       "      <th>T1</th>\n",
       "      <th>T2</th>\n",
       "      <th>T3</th>\n",
       "      <th>T4</th>\n",
       "      <th>T5</th>\n",
       "      <th>T6</th>\n",
       "      <th>T7</th>\n",
       "      <th>T8</th>\n",
       "      <th>T9</th>\n",
       "      <th>T10</th>\n",
       "      <th>...</th>\n",
       "      <th>T72</th>\n",
       "      <th>T73</th>\n",
       "      <th>T74</th>\n",
       "      <th>T75</th>\n",
       "      <th>T76</th>\n",
       "      <th>T77</th>\n",
       "      <th>T78</th>\n",
       "      <th>T79</th>\n",
       "      <th>T80</th>\n",
       "      <th>Target</th>\n",
       "    </tr>\n",
       "  </thead>\n",
       "  <tbody>\n",
       "    <tr>\n",
       "      <th>0</th>\n",
       "      <td>0.987</td>\n",
       "      <td>0.892</td>\n",
       "      <td>0.461</td>\n",
       "      <td>0.1130</td>\n",
       "      <td>0.1490</td>\n",
       "      <td>0.1900</td>\n",
       "      <td>0.1650</td>\n",
       "      <td>0.1620</td>\n",
       "      <td>0.1470</td>\n",
       "      <td>0.1380</td>\n",
       "      <td>...</td>\n",
       "      <td>0.1970</td>\n",
       "      <td>0.1970</td>\n",
       "      <td>0.1960</td>\n",
       "      <td>0.2030</td>\n",
       "      <td>0.201</td>\n",
       "      <td>0.1990</td>\n",
       "      <td>0.2010</td>\n",
       "      <td>0.205</td>\n",
       "      <td>0.2080</td>\n",
       "      <td>0</td>\n",
       "    </tr>\n",
       "    <tr>\n",
       "      <th>1</th>\n",
       "      <td>1.000</td>\n",
       "      <td>0.918</td>\n",
       "      <td>0.621</td>\n",
       "      <td>0.1330</td>\n",
       "      <td>0.1050</td>\n",
       "      <td>0.1250</td>\n",
       "      <td>0.1170</td>\n",
       "      <td>0.0898</td>\n",
       "      <td>0.0703</td>\n",
       "      <td>0.0781</td>\n",
       "      <td>...</td>\n",
       "      <td>0.1950</td>\n",
       "      <td>0.1910</td>\n",
       "      <td>0.1520</td>\n",
       "      <td>0.1720</td>\n",
       "      <td>0.207</td>\n",
       "      <td>0.2110</td>\n",
       "      <td>0.2070</td>\n",
       "      <td>0.207</td>\n",
       "      <td>0.1720</td>\n",
       "      <td>0</td>\n",
       "    </tr>\n",
       "    <tr>\n",
       "      <th>2</th>\n",
       "      <td>1.000</td>\n",
       "      <td>0.751</td>\n",
       "      <td>0.143</td>\n",
       "      <td>0.1040</td>\n",
       "      <td>0.0961</td>\n",
       "      <td>0.0519</td>\n",
       "      <td>0.0442</td>\n",
       "      <td>0.0416</td>\n",
       "      <td>0.0364</td>\n",
       "      <td>0.0857</td>\n",
       "      <td>...</td>\n",
       "      <td>0.2260</td>\n",
       "      <td>0.2420</td>\n",
       "      <td>0.2440</td>\n",
       "      <td>0.2860</td>\n",
       "      <td>0.468</td>\n",
       "      <td>0.8160</td>\n",
       "      <td>0.9770</td>\n",
       "      <td>0.452</td>\n",
       "      <td>0.0519</td>\n",
       "      <td>0</td>\n",
       "    </tr>\n",
       "    <tr>\n",
       "      <th>3</th>\n",
       "      <td>1.000</td>\n",
       "      <td>0.740</td>\n",
       "      <td>0.235</td>\n",
       "      <td>0.0464</td>\n",
       "      <td>0.0722</td>\n",
       "      <td>0.0567</td>\n",
       "      <td>0.0103</td>\n",
       "      <td>0.0155</td>\n",
       "      <td>0.0284</td>\n",
       "      <td>0.0155</td>\n",
       "      <td>...</td>\n",
       "      <td>0.0851</td>\n",
       "      <td>0.0747</td>\n",
       "      <td>0.0515</td>\n",
       "      <td>0.0593</td>\n",
       "      <td>0.067</td>\n",
       "      <td>0.0361</td>\n",
       "      <td>0.1210</td>\n",
       "      <td>0.451</td>\n",
       "      <td>0.8690</td>\n",
       "      <td>0</td>\n",
       "    </tr>\n",
       "    <tr>\n",
       "      <th>4</th>\n",
       "      <td>1.000</td>\n",
       "      <td>0.833</td>\n",
       "      <td>0.309</td>\n",
       "      <td>0.0191</td>\n",
       "      <td>0.1010</td>\n",
       "      <td>0.1200</td>\n",
       "      <td>0.1040</td>\n",
       "      <td>0.0874</td>\n",
       "      <td>0.0765</td>\n",
       "      <td>0.0765</td>\n",
       "      <td>...</td>\n",
       "      <td>0.2050</td>\n",
       "      <td>0.4210</td>\n",
       "      <td>0.8030</td>\n",
       "      <td>0.9510</td>\n",
       "      <td>0.467</td>\n",
       "      <td>0.0000</td>\n",
       "      <td>0.0519</td>\n",
       "      <td>0.082</td>\n",
       "      <td>0.0628</td>\n",
       "      <td>0</td>\n",
       "    </tr>\n",
       "  </tbody>\n",
       "</table>\n",
       "<p>5 rows × 81 columns</p>\n",
       "</div>"
      ],
      "text/plain": [
       "      T1     T2     T3      T4      T5      T6      T7      T8      T9  \\\n",
       "0  0.987  0.892  0.461  0.1130  0.1490  0.1900  0.1650  0.1620  0.1470   \n",
       "1  1.000  0.918  0.621  0.1330  0.1050  0.1250  0.1170  0.0898  0.0703   \n",
       "2  1.000  0.751  0.143  0.1040  0.0961  0.0519  0.0442  0.0416  0.0364   \n",
       "3  1.000  0.740  0.235  0.0464  0.0722  0.0567  0.0103  0.0155  0.0284   \n",
       "4  1.000  0.833  0.309  0.0191  0.1010  0.1200  0.1040  0.0874  0.0765   \n",
       "\n",
       "      T10  ...     T72     T73     T74     T75    T76     T77     T78    T79  \\\n",
       "0  0.1380  ...  0.1970  0.1970  0.1960  0.2030  0.201  0.1990  0.2010  0.205   \n",
       "1  0.0781  ...  0.1950  0.1910  0.1520  0.1720  0.207  0.2110  0.2070  0.207   \n",
       "2  0.0857  ...  0.2260  0.2420  0.2440  0.2860  0.468  0.8160  0.9770  0.452   \n",
       "3  0.0155  ...  0.0851  0.0747  0.0515  0.0593  0.067  0.0361  0.1210  0.451   \n",
       "4  0.0765  ...  0.2050  0.4210  0.8030  0.9510  0.467  0.0000  0.0519  0.082   \n",
       "\n",
       "      T80  Target  \n",
       "0  0.2080       0  \n",
       "1  0.1720       0  \n",
       "2  0.0519       0  \n",
       "3  0.8690       0  \n",
       "4  0.0628       0  \n",
       "\n",
       "[5 rows x 81 columns]"
      ]
     },
     "execution_count": 4,
     "metadata": {},
     "output_type": "execute_result"
    }
   ],
   "source": [
    "data.head()"
   ]
  },
  {
   "cell_type": "code",
   "execution_count": 5,
   "metadata": {},
   "outputs": [],
   "source": [
    "# Separate the target variable\n",
    "\n",
    "y = data['Target']\n",
    "x = data.drop('Target', axis=1)"
   ]
  },
  {
   "cell_type": "markdown",
   "metadata": {},
   "source": [
    "## Split the data"
   ]
  },
  {
   "cell_type": "code",
   "execution_count": 6,
   "metadata": {},
   "outputs": [],
   "source": [
    "from sklearn.model_selection import train_test_split\n",
    "\n",
    "train_x, test_x, train_y, test_y = train_test_split(x, y, test_size=0.3)"
   ]
  },
  {
   "cell_type": "markdown",
   "metadata": {},
   "source": [
    "## Data Transformation"
   ]
  },
  {
   "cell_type": "code",
   "execution_count": 7,
   "metadata": {},
   "outputs": [],
   "source": [
    "# Convert the target variable to integer type\n",
    "train_y = np.array(train_y)\n",
    "test_y = np.array(test_y)\n",
    "\n",
    "train_y = train_y.astype(np.int32)\n",
    "test_y = test_y.astype(np.int32)"
   ]
  },
  {
   "cell_type": "code",
   "execution_count": 8,
   "metadata": {
    "scrolled": true
   },
   "outputs": [
    {
     "data": {
      "text/plain": [
       "array([1, 0, 2, 0, 2, 2, 0, 0, 4, 4])"
      ]
     },
     "execution_count": 8,
     "metadata": {},
     "output_type": "execute_result"
    }
   ],
   "source": [
    "# Take a look at what the first 10 values look like of the target variable\n",
    "train_y[0:10]"
   ]
  },
  {
   "cell_type": "code",
   "execution_count": 9,
   "metadata": {},
   "outputs": [],
   "source": [
    "# Convert the input variables to float data types\n",
    "train_x= np.array(train_x)\n",
    "test_x= np.array(test_x)\n",
    "\n",
    "train_x = train_x.astype(np.float32)\n",
    "test_x = test_x.astype(np.float32)"
   ]
  },
  {
   "cell_type": "code",
   "execution_count": 10,
   "metadata": {},
   "outputs": [
    {
     "data": {
      "text/plain": [
       "array([[1.    , 0.818 , 0.133 , ..., 0.354 , 0.354 , 0.387 ],\n",
       "       [1.    , 0.849 , 0.166 , ..., 0.108 , 0.0811, 0.0695],\n",
       "       [0.    , 0.0335, 0.163 , ..., 0.62  , 0.624 , 0.606 ],\n",
       "       ...,\n",
       "       [1.    , 0.98  , 0.573 , ..., 0.057 , 0.038 , 0.0418],\n",
       "       [0.564 , 0.512 , 0.468 , ..., 0.357 , 0.348 , 0.354 ],\n",
       "       [0.799 , 0.683 , 0.564 , ..., 0.265 , 0.265 , 0.247 ]],\n",
       "      dtype=float32)"
      ]
     },
     "execution_count": 10,
     "metadata": {},
     "output_type": "execute_result"
    }
   ],
   "source": [
    "train_x"
   ]
  },
  {
   "cell_type": "code",
   "execution_count": 11,
   "metadata": {},
   "outputs": [],
   "source": [
    "# Convert the dataset to 3-D\n",
    "\n",
    "train_x = np.reshape(train_x, (train_x.shape[0], train_x.shape[1], 1))\n",
    "test_x = np.reshape(test_x, (test_x.shape[0], test_x.shape[1], 1))"
   ]
  },
  {
   "cell_type": "code",
   "execution_count": 12,
   "metadata": {},
   "outputs": [
    {
     "data": {
      "text/plain": [
       "((5572, 80, 1), (5572,))"
      ]
     },
     "execution_count": 12,
     "metadata": {},
     "output_type": "execute_result"
    }
   ],
   "source": [
    "train_x.shape, train_y.shape"
   ]
  },
  {
   "cell_type": "code",
   "execution_count": 13,
   "metadata": {},
   "outputs": [
    {
     "data": {
      "text/plain": [
       "array([[[1.    ],\n",
       "        [0.818 ],\n",
       "        [0.133 ],\n",
       "        ...,\n",
       "        [0.354 ],\n",
       "        [0.354 ],\n",
       "        [0.387 ]],\n",
       "\n",
       "       [[1.    ],\n",
       "        [0.849 ],\n",
       "        [0.166 ],\n",
       "        ...,\n",
       "        [0.108 ],\n",
       "        [0.0811],\n",
       "        [0.0695]],\n",
       "\n",
       "       [[0.    ],\n",
       "        [0.0335],\n",
       "        [0.163 ],\n",
       "        ...,\n",
       "        [0.62  ],\n",
       "        [0.624 ],\n",
       "        [0.606 ]],\n",
       "\n",
       "       ...,\n",
       "\n",
       "       [[1.    ],\n",
       "        [0.98  ],\n",
       "        [0.573 ],\n",
       "        ...,\n",
       "        [0.057 ],\n",
       "        [0.038 ],\n",
       "        [0.0418]],\n",
       "\n",
       "       [[0.564 ],\n",
       "        [0.512 ],\n",
       "        [0.468 ],\n",
       "        ...,\n",
       "        [0.357 ],\n",
       "        [0.348 ],\n",
       "        [0.354 ]],\n",
       "\n",
       "       [[0.799 ],\n",
       "        [0.683 ],\n",
       "        [0.564 ],\n",
       "        ...,\n",
       "        [0.265 ],\n",
       "        [0.265 ],\n",
       "        [0.247 ]]], dtype=float32)"
      ]
     },
     "execution_count": 13,
     "metadata": {},
     "output_type": "execute_result"
    }
   ],
   "source": [
    "train_x"
   ]
  },
  {
   "cell_type": "markdown",
   "metadata": {},
   "source": [
    "# Find the baseline"
   ]
  },
  {
   "cell_type": "code",
   "execution_count": 14,
   "metadata": {},
   "outputs": [
    {
     "data": {
      "text/plain": [
       "0    0.582035\n",
       "4    0.198995\n",
       "2    0.155402\n",
       "1    0.055905\n",
       "3    0.007663\n",
       "Name: Target, dtype: float64"
      ]
     },
     "execution_count": 14,
     "metadata": {},
     "output_type": "execute_result"
    }
   ],
   "source": [
    "data['Target'].value_counts()/len(data)"
   ]
  },
  {
   "cell_type": "markdown",
   "metadata": {},
   "source": [
    "# Build a cross-sectional shallow model using Keras (with only one hidden layer)"
   ]
  },
  {
   "cell_type": "code",
   "execution_count": 15,
   "metadata": {},
   "outputs": [],
   "source": [
    "# Using 80 because we have 80 columns and 1 because we have 1 column as target variable\n",
    "\n",
    "model = keras.models.Sequential([\n",
    "    \n",
    "    keras.layers.Flatten(input_shape=[80, 1]),\n",
    "    keras.layers.Dense(80, activation='relu'),\n",
    "    keras.layers.Dense(5, activation='softmax')\n",
    "    \n",
    "])"
   ]
  },
  {
   "cell_type": "code",
   "execution_count": 16,
   "metadata": {
    "scrolled": true
   },
   "outputs": [
    {
     "name": "stdout",
     "output_type": "stream",
     "text": [
      "Epoch 1/50\n",
      "175/175 [==============================] - 3s 8ms/step - loss: 0.6766 - accuracy: 0.7740 - val_loss: 0.6168 - val_accuracy: 0.8291\n",
      "Epoch 2/50\n",
      "175/175 [==============================] - 1s 5ms/step - loss: 0.4439 - accuracy: 0.8580 - val_loss: 0.4514 - val_accuracy: 0.8539\n",
      "Epoch 3/50\n",
      "175/175 [==============================] - 1s 5ms/step - loss: 0.3755 - accuracy: 0.8878 - val_loss: 0.6498 - val_accuracy: 0.7563\n",
      "Epoch 4/50\n",
      "175/175 [==============================] - 1s 5ms/step - loss: 0.3435 - accuracy: 0.8982 - val_loss: 0.3440 - val_accuracy: 0.9012\n",
      "Epoch 5/50\n",
      "175/175 [==============================] - 1s 5ms/step - loss: 0.3197 - accuracy: 0.9040 - val_loss: 0.3155 - val_accuracy: 0.9024\n",
      "Epoch 6/50\n",
      "175/175 [==============================] - 1s 5ms/step - loss: 0.3034 - accuracy: 0.9092 - val_loss: 0.4579 - val_accuracy: 0.8580\n",
      "Epoch 7/50\n",
      "175/175 [==============================] - 1s 5ms/step - loss: 0.2842 - accuracy: 0.9169 - val_loss: 0.3691 - val_accuracy: 0.8848\n",
      "Epoch 8/50\n",
      "175/175 [==============================] - 1s 4ms/step - loss: 0.2725 - accuracy: 0.9176 - val_loss: 0.3160 - val_accuracy: 0.9045\n",
      "Epoch 9/50\n",
      "175/175 [==============================] - 1s 5ms/step - loss: 0.2652 - accuracy: 0.9207 - val_loss: 0.4003 - val_accuracy: 0.8823\n",
      "Epoch 10/50\n",
      "175/175 [==============================] - 1s 5ms/step - loss: 0.2487 - accuracy: 0.9241 - val_loss: 0.2984 - val_accuracy: 0.9066\n",
      "Epoch 11/50\n",
      "175/175 [==============================] - 1s 5ms/step - loss: 0.2482 - accuracy: 0.9243 - val_loss: 0.2698 - val_accuracy: 0.9204\n",
      "Epoch 12/50\n",
      "175/175 [==============================] - 1s 5ms/step - loss: 0.2398 - accuracy: 0.9253 - val_loss: 0.5853 - val_accuracy: 0.8585\n",
      "Epoch 13/50\n",
      "175/175 [==============================] - 1s 5ms/step - loss: 0.2356 - accuracy: 0.9293 - val_loss: 0.2416 - val_accuracy: 0.9343\n",
      "Epoch 14/50\n",
      "175/175 [==============================] - 1s 5ms/step - loss: 0.2227 - accuracy: 0.9331 - val_loss: 0.3246 - val_accuracy: 0.9100\n",
      "Epoch 15/50\n",
      "175/175 [==============================] - 1s 5ms/step - loss: 0.2193 - accuracy: 0.9323 - val_loss: 0.2598 - val_accuracy: 0.9309\n",
      "Epoch 16/50\n",
      "175/175 [==============================] - 1s 5ms/step - loss: 0.2113 - accuracy: 0.9363 - val_loss: 0.2244 - val_accuracy: 0.9401\n",
      "Epoch 17/50\n",
      "175/175 [==============================] - 1s 5ms/step - loss: 0.2118 - accuracy: 0.9336 - val_loss: 0.2225 - val_accuracy: 0.9355\n",
      "Epoch 18/50\n",
      "175/175 [==============================] - 1s 5ms/step - loss: 0.2049 - accuracy: 0.9341 - val_loss: 0.2458 - val_accuracy: 0.9250\n",
      "Epoch 19/50\n",
      "175/175 [==============================] - 1s 5ms/step - loss: 0.1994 - accuracy: 0.9379 - val_loss: 2.2887 - val_accuracy: 0.5276\n",
      "Epoch 20/50\n",
      "175/175 [==============================] - 1s 5ms/step - loss: 0.2234 - accuracy: 0.9295 - val_loss: 0.2270 - val_accuracy: 0.9292\n",
      "Epoch 21/50\n",
      "175/175 [==============================] - 1s 5ms/step - loss: 0.1948 - accuracy: 0.9402 - val_loss: 0.2265 - val_accuracy: 0.9405\n",
      "Epoch 22/50\n",
      "175/175 [==============================] - 1s 5ms/step - loss: 0.1916 - accuracy: 0.9417 - val_loss: 0.2413 - val_accuracy: 0.9284\n",
      "Epoch 23/50\n",
      "175/175 [==============================] - 1s 5ms/step - loss: 0.1866 - accuracy: 0.9406 - val_loss: 0.2580 - val_accuracy: 0.9305\n",
      "Epoch 24/50\n",
      "175/175 [==============================] - 1s 5ms/step - loss: 0.1863 - accuracy: 0.9417 - val_loss: 0.2276 - val_accuracy: 0.9376\n",
      "Epoch 25/50\n",
      "175/175 [==============================] - 1s 5ms/step - loss: 0.1864 - accuracy: 0.9413 - val_loss: 0.2094 - val_accuracy: 0.9435\n",
      "Epoch 26/50\n",
      "175/175 [==============================] - 1s 5ms/step - loss: 0.1762 - accuracy: 0.9438 - val_loss: 0.2046 - val_accuracy: 0.9401\n",
      "Epoch 27/50\n",
      "175/175 [==============================] - 1s 5ms/step - loss: 0.1764 - accuracy: 0.9444 - val_loss: 0.2185 - val_accuracy: 0.9368\n",
      "Epoch 28/50\n",
      "175/175 [==============================] - 1s 5ms/step - loss: 0.1776 - accuracy: 0.9436 - val_loss: 0.1944 - val_accuracy: 0.9435\n",
      "Epoch 29/50\n",
      "175/175 [==============================] - 1s 5ms/step - loss: 0.1756 - accuracy: 0.9467 - val_loss: 0.2313 - val_accuracy: 0.9338\n",
      "Epoch 30/50\n",
      "175/175 [==============================] - 1s 5ms/step - loss: 0.1787 - accuracy: 0.9427 - val_loss: 0.2380 - val_accuracy: 0.9347\n",
      "Epoch 31/50\n",
      "175/175 [==============================] - 1s 5ms/step - loss: 0.1715 - accuracy: 0.9453 - val_loss: 0.8169 - val_accuracy: 0.8245\n",
      "Epoch 32/50\n",
      "175/175 [==============================] - 1s 5ms/step - loss: 0.1951 - accuracy: 0.9379 - val_loss: 0.2166 - val_accuracy: 0.9397\n",
      "Epoch 33/50\n",
      "175/175 [==============================] - 1s 5ms/step - loss: 0.1764 - accuracy: 0.9451 - val_loss: 0.3645 - val_accuracy: 0.8819\n",
      "Epoch 34/50\n",
      "175/175 [==============================] - 1s 4ms/step - loss: 0.1686 - accuracy: 0.9481 - val_loss: 0.2181 - val_accuracy: 0.9397\n",
      "Epoch 35/50\n",
      "175/175 [==============================] - 1s 4ms/step - loss: 0.1600 - accuracy: 0.9476 - val_loss: 0.2310 - val_accuracy: 0.9393\n",
      "Epoch 36/50\n",
      "175/175 [==============================] - 1s 5ms/step - loss: 0.1623 - accuracy: 0.9476 - val_loss: 0.2589 - val_accuracy: 0.9326\n",
      "Epoch 37/50\n",
      "175/175 [==============================] - 1s 5ms/step - loss: 0.1553 - accuracy: 0.9515 - val_loss: 0.2042 - val_accuracy: 0.9443\n",
      "Epoch 38/50\n",
      "175/175 [==============================] - 1s 5ms/step - loss: 0.1579 - accuracy: 0.9508 - val_loss: 0.2836 - val_accuracy: 0.9079\n",
      "Epoch 39/50\n",
      "175/175 [==============================] - 1s 5ms/step - loss: 0.1588 - accuracy: 0.9505 - val_loss: 0.2449 - val_accuracy: 0.9309\n",
      "Epoch 40/50\n",
      "175/175 [==============================] - 1s 5ms/step - loss: 0.1524 - accuracy: 0.9505 - val_loss: 0.2030 - val_accuracy: 0.9414\n",
      "Epoch 41/50\n",
      "175/175 [==============================] - 1s 5ms/step - loss: 0.1505 - accuracy: 0.9524 - val_loss: 0.1947 - val_accuracy: 0.9430\n",
      "Epoch 42/50\n",
      "175/175 [==============================] - 1s 5ms/step - loss: 0.1504 - accuracy: 0.9512 - val_loss: 0.2187 - val_accuracy: 0.9414\n",
      "Epoch 43/50\n",
      "175/175 [==============================] - 1s 5ms/step - loss: 0.1532 - accuracy: 0.9526 - val_loss: 0.3433 - val_accuracy: 0.9058\n",
      "Epoch 44/50\n",
      "175/175 [==============================] - 1s 5ms/step - loss: 0.1652 - accuracy: 0.9481 - val_loss: 0.1979 - val_accuracy: 0.9464\n",
      "Epoch 45/50\n",
      "175/175 [==============================] - 1s 5ms/step - loss: 0.1526 - accuracy: 0.9514 - val_loss: 0.2208 - val_accuracy: 0.9338\n",
      "Epoch 46/50\n",
      "175/175 [==============================] - 1s 4ms/step - loss: 0.1520 - accuracy: 0.9521 - val_loss: 0.2152 - val_accuracy: 0.9384\n",
      "Epoch 47/50\n",
      "175/175 [==============================] - 1s 4ms/step - loss: 0.1541 - accuracy: 0.9512 - val_loss: 0.2231 - val_accuracy: 0.9401\n",
      "Epoch 48/50\n",
      "175/175 [==============================] - 1s 5ms/step - loss: 0.1461 - accuracy: 0.9508 - val_loss: 0.1983 - val_accuracy: 0.9456\n",
      "Epoch 49/50\n",
      "175/175 [==============================] - 1s 5ms/step - loss: 0.1389 - accuracy: 0.9548 - val_loss: 0.1952 - val_accuracy: 0.9477\n",
      "Epoch 50/50\n",
      "175/175 [==============================] - 1s 5ms/step - loss: 0.1401 - accuracy: 0.9548 - val_loss: 0.2196 - val_accuracy: 0.9389\n"
     ]
    }
   ],
   "source": [
    "# Make sure to add our random seeds for both numpy and tensorflow\n",
    "np.random.seed(42)\n",
    "tf.random.set_seed(42)\n",
    "\n",
    "# Configure the optimizer\n",
    "optimizer = tf.keras.optimizers.Nadam(learning_rate=0.01)\n",
    "\n",
    "model.compile(loss=\"sparse_categorical_crossentropy\", optimizer=optimizer, metrics=['accuracy'])\n",
    "\n",
    "# Fit the model\n",
    "history = model.fit(train_x, train_y, epochs=50,\n",
    "                    validation_data=(test_x, test_y))"
   ]
  },
  {
   "cell_type": "code",
   "execution_count": 17,
   "metadata": {},
   "outputs": [
    {
     "name": "stdout",
     "output_type": "stream",
     "text": [
      "loss: 0.22\n",
      "accuracy: 93.89%\n"
     ]
    }
   ],
   "source": [
    "# Evaluate the model\n",
    "scores = model.evaluate(test_x, test_y, verbose=0)\n",
    "\n",
    "# Extract the accuracy from model.evaluate\n",
    "print(\"%s: %.2f\" % (model.metrics_names[0], scores[0]))\n",
    "print(\"%s: %.2f%%\" % (model.metrics_names[1], scores[1]*100))"
   ]
  },
  {
   "cell_type": "markdown",
   "metadata": {},
   "source": [
    "# Build a cross-sectional deep model using Keras (with two or more hidden layers)"
   ]
  },
  {
   "cell_type": "code",
   "execution_count": 18,
   "metadata": {},
   "outputs": [],
   "source": [
    "# Create early stopping\n",
    "earlystop = EarlyStopping(monitor='val_loss', patience=5, verbose=1, mode='auto')\n",
    "\n",
    "callback = [earlystop]"
   ]
  },
  {
   "cell_type": "code",
   "execution_count": 19,
   "metadata": {},
   "outputs": [],
   "source": [
    "# Create the input shapes (80 for input columns and 1 for target column)\n",
    "n_steps = 80\n",
    "n_inputs = 1\n",
    "\n",
    "# Create the model\n",
    "model = keras.models.Sequential([\n",
    "    keras.layers.SimpleRNN(50, return_sequences=True, input_shape=[n_steps, n_inputs] ),\n",
    "    keras.layers.SimpleRNN(35, return_sequences=True),\n",
    "    keras.layers.SimpleRNN(20, return_sequences=True),\n",
    "    keras.layers.SimpleRNN(5), \n",
    "    keras.layers.Dense(5, activation='softmax')\n",
    "])\n"
   ]
  },
  {
   "cell_type": "code",
   "execution_count": 20,
   "metadata": {},
   "outputs": [
    {
     "name": "stdout",
     "output_type": "stream",
     "text": [
      "Epoch 1/20\n",
      "175/175 [==============================] - 30s 140ms/step - loss: 0.9774 - accuracy: 0.7032 - val_loss: 0.8515 - val_accuracy: 0.7450\n",
      "Epoch 2/20\n",
      "175/175 [==============================] - 23s 131ms/step - loss: 0.7875 - accuracy: 0.7487 - val_loss: 0.6624 - val_accuracy: 0.7889\n",
      "Epoch 3/20\n",
      "175/175 [==============================] - 23s 132ms/step - loss: 0.6490 - accuracy: 0.8022 - val_loss: 0.8379 - val_accuracy: 0.7127\n",
      "Epoch 4/20\n",
      "175/175 [==============================] - 23s 132ms/step - loss: 0.6280 - accuracy: 0.8110 - val_loss: 0.5696 - val_accuracy: 0.8266\n",
      "Epoch 5/20\n",
      "175/175 [==============================] - 23s 131ms/step - loss: 0.5913 - accuracy: 0.8139 - val_loss: 0.5603 - val_accuracy: 0.8245\n",
      "Epoch 6/20\n",
      "175/175 [==============================] - 23s 132ms/step - loss: 0.4972 - accuracy: 0.8591 - val_loss: 0.4940 - val_accuracy: 0.8446\n",
      "Epoch 7/20\n",
      "175/175 [==============================] - 23s 133ms/step - loss: 0.5166 - accuracy: 0.8500 - val_loss: 0.5020 - val_accuracy: 0.8476\n",
      "Epoch 8/20\n",
      "175/175 [==============================] - 23s 131ms/step - loss: 0.4839 - accuracy: 0.8595 - val_loss: 0.4304 - val_accuracy: 0.8865\n",
      "Epoch 9/20\n",
      "175/175 [==============================] - 23s 133ms/step - loss: 0.4543 - accuracy: 0.8697 - val_loss: 0.5297 - val_accuracy: 0.8291\n",
      "Epoch 10/20\n",
      "175/175 [==============================] - 23s 133ms/step - loss: 0.4614 - accuracy: 0.8622 - val_loss: 1.5278 - val_accuracy: 0.3149\n",
      "Epoch 11/20\n",
      "175/175 [==============================] - 23s 131ms/step - loss: 0.5503 - accuracy: 0.8299 - val_loss: 0.4642 - val_accuracy: 0.8656\n",
      "Epoch 12/20\n",
      "175/175 [==============================] - 23s 132ms/step - loss: 0.4983 - accuracy: 0.8476 - val_loss: 0.4389 - val_accuracy: 0.8781\n",
      "Epoch 13/20\n",
      "175/175 [==============================] - 23s 134ms/step - loss: 0.4134 - accuracy: 0.8821 - val_loss: 0.4328 - val_accuracy: 0.8865\n",
      "Epoch 13: early stopping\n"
     ]
    }
   ],
   "source": [
    "np.random.seed(42)\n",
    "tf.random.set_seed(42)\n",
    "\n",
    "optimizer = keras.optimizers.Adam(learning_rate=0.001)\n",
    "\n",
    "model.compile(loss=\"sparse_categorical_crossentropy\", optimizer=optimizer, metrics=['accuracy'])\n",
    "\n",
    "history = model.fit(train_x, train_y, epochs=20,\n",
    "                   validation_data = (test_x, test_y), callbacks=callback)"
   ]
  },
  {
   "cell_type": "code",
   "execution_count": 21,
   "metadata": {},
   "outputs": [
    {
     "name": "stdout",
     "output_type": "stream",
     "text": [
      "loss: 0.43\n",
      "accuracy: 88.65%\n"
     ]
    }
   ],
   "source": [
    "# Evaluate the model\n",
    "scores = model.evaluate(test_x, test_y, verbose=0)\n",
    "\n",
    "# Extract the accuracy from model.evaluate\n",
    "print(\"%s: %.2f\" % (model.metrics_names[0], scores[0]))\n",
    "print(\"%s: %.2f%%\" % (model.metrics_names[1], scores[1]*100))"
   ]
  },
  {
   "cell_type": "markdown",
   "metadata": {},
   "source": [
    "# Build a sequential shallow LSTM Model (with only one LSTM layer)"
   ]
  },
  {
   "cell_type": "code",
   "execution_count": 22,
   "metadata": {},
   "outputs": [],
   "source": [
    "# Create the input shapes (80 for input columns and 1 for target column)\n",
    "n_steps = 80\n",
    "n_inputs = 1\n",
    "\n",
    "model = keras.models.Sequential([\n",
    "    \n",
    "    keras.layers.LSTM(5, activation='softmax' , input_shape=[n_steps, n_inputs])\n",
    "])"
   ]
  },
  {
   "cell_type": "code",
   "execution_count": 23,
   "metadata": {
    "scrolled": true
   },
   "outputs": [
    {
     "name": "stdout",
     "output_type": "stream",
     "text": [
      "Epoch 1/20\n",
      "175/175 [==============================] - 14s 66ms/step - loss: 1.4588 - accuracy: 0.5770 - val_loss: 1.3335 - val_accuracy: 0.5930\n",
      "Epoch 2/20\n",
      "175/175 [==============================] - 11s 61ms/step - loss: 1.2820 - accuracy: 0.5774 - val_loss: 1.2165 - val_accuracy: 0.5930\n",
      "Epoch 3/20\n",
      "175/175 [==============================] - 11s 61ms/step - loss: 1.2138 - accuracy: 0.5774 - val_loss: 1.1689 - val_accuracy: 0.5930\n",
      "Epoch 4/20\n",
      "175/175 [==============================] - 11s 62ms/step - loss: 1.1742 - accuracy: 0.5774 - val_loss: 1.1358 - val_accuracy: 0.5930\n",
      "Epoch 5/20\n",
      "175/175 [==============================] - 11s 62ms/step - loss: 1.1439 - accuracy: 0.5774 - val_loss: 1.1116 - val_accuracy: 0.5930\n",
      "Epoch 6/20\n",
      "175/175 [==============================] - 10s 59ms/step - loss: 1.1192 - accuracy: 0.5772 - val_loss: 1.0873 - val_accuracy: 0.5925\n",
      "Epoch 7/20\n",
      "175/175 [==============================] - 11s 61ms/step - loss: 1.0972 - accuracy: 0.5718 - val_loss: 1.0687 - val_accuracy: 0.5775\n",
      "Epoch 8/20\n",
      "175/175 [==============================] - 11s 61ms/step - loss: 1.0807 - accuracy: 0.5642 - val_loss: 1.0587 - val_accuracy: 0.5942\n",
      "Epoch 9/20\n",
      "175/175 [==============================] - 11s 61ms/step - loss: 1.0715 - accuracy: 0.5852 - val_loss: 1.0507 - val_accuracy: 0.5984\n",
      "Epoch 10/20\n",
      "175/175 [==============================] - 11s 61ms/step - loss: 1.0660 - accuracy: 0.5948 - val_loss: 1.0515 - val_accuracy: 0.6034\n",
      "Epoch 11/20\n",
      "175/175 [==============================] - 11s 61ms/step - loss: 1.0634 - accuracy: 0.6027 - val_loss: 1.0456 - val_accuracy: 0.6051\n",
      "Epoch 12/20\n",
      "175/175 [==============================] - 11s 61ms/step - loss: 1.0609 - accuracy: 0.6034 - val_loss: 1.0435 - val_accuracy: 0.6059\n",
      "Epoch 13/20\n",
      "175/175 [==============================] - 10s 60ms/step - loss: 1.0591 - accuracy: 0.6082 - val_loss: 1.0415 - val_accuracy: 0.6064\n",
      "Epoch 14/20\n",
      "175/175 [==============================] - 11s 60ms/step - loss: 1.0576 - accuracy: 0.6057 - val_loss: 1.0401 - val_accuracy: 0.6076\n",
      "Epoch 15/20\n",
      "175/175 [==============================] - 10s 60ms/step - loss: 1.0563 - accuracy: 0.6079 - val_loss: 1.0387 - val_accuracy: 0.6076\n",
      "Epoch 16/20\n",
      "175/175 [==============================] - 11s 60ms/step - loss: 1.0554 - accuracy: 0.6055 - val_loss: 1.0382 - val_accuracy: 0.6068\n",
      "Epoch 17/20\n",
      "175/175 [==============================] - 11s 61ms/step - loss: 1.0548 - accuracy: 0.6079 - val_loss: 1.0370 - val_accuracy: 0.6059\n",
      "Epoch 18/20\n",
      "175/175 [==============================] - 10s 60ms/step - loss: 1.0534 - accuracy: 0.6077 - val_loss: 1.0360 - val_accuracy: 0.6076\n",
      "Epoch 19/20\n",
      "175/175 [==============================] - 11s 60ms/step - loss: 1.0527 - accuracy: 0.6095 - val_loss: 1.0349 - val_accuracy: 0.6093\n",
      "Epoch 20/20\n",
      "175/175 [==============================] - 10s 58ms/step - loss: 1.0521 - accuracy: 0.6075 - val_loss: 1.0343 - val_accuracy: 0.6089\n"
     ]
    }
   ],
   "source": [
    "np.random.seed(42)\n",
    "tf.random.set_seed(42)\n",
    "\n",
    "optimizer = keras.optimizers.Nadam(learning_rate=0.001)\n",
    "\n",
    "model.compile(loss=\"sparse_categorical_crossentropy\", optimizer=optimizer, metrics=['accuracy'])\n",
    "\n",
    "history = model.fit(train_x, train_y, epochs=20,\n",
    "                   validation_data = (test_x, test_y), callbacks=callback)"
   ]
  },
  {
   "cell_type": "code",
   "execution_count": 24,
   "metadata": {},
   "outputs": [
    {
     "name": "stdout",
     "output_type": "stream",
     "text": [
      "loss: 1.03\n",
      "accuracy: 60.89%\n"
     ]
    }
   ],
   "source": [
    "# Evaluate the model\n",
    "scores = model.evaluate(test_x, test_y, verbose=0)\n",
    "\n",
    "# Extract the accuracy from model.evaluate\n",
    "print(\"%s: %.2f\" % (model.metrics_names[0], scores[0]))\n",
    "print(\"%s: %.2f%%\" % (model.metrics_names[1], scores[1]*100))"
   ]
  },
  {
   "cell_type": "markdown",
   "metadata": {},
   "source": [
    "# Build a sequential deep LSTM Model (with only two LSTM layers)"
   ]
  },
  {
   "cell_type": "code",
   "execution_count": 25,
   "metadata": {},
   "outputs": [],
   "source": [
    "n_steps = 80\n",
    "n_inputs = 1\n",
    "\n",
    "model = keras.models.Sequential([\n",
    "    keras.layers.LSTM(20, return_sequences=True, input_shape=[n_steps, n_inputs]),\n",
    "    keras.layers.LSTM(15, return_sequences=True),\n",
    "    keras.layers.LSTM(10),\n",
    "    keras.layers.Dense(5, activation='softmax')\n",
    "]) #"
   ]
  },
  {
   "cell_type": "code",
   "execution_count": 26,
   "metadata": {
    "scrolled": true
   },
   "outputs": [
    {
     "name": "stdout",
     "output_type": "stream",
     "text": [
      "Epoch 1/20\n",
      "175/175 [==============================] - 48s 206ms/step - loss: 1.1413 - accuracy: 0.5723 - val_loss: 1.1072 - val_accuracy: 0.5930\n",
      "Epoch 2/20\n",
      "175/175 [==============================] - 33s 188ms/step - loss: 1.1309 - accuracy: 0.5765 - val_loss: 1.0841 - val_accuracy: 0.5930\n",
      "Epoch 3/20\n",
      "175/175 [==============================] - 33s 187ms/step - loss: 1.1198 - accuracy: 0.5808 - val_loss: 1.1188 - val_accuracy: 0.5930\n",
      "Epoch 4/20\n",
      "175/175 [==============================] - 32s 185ms/step - loss: 1.1216 - accuracy: 0.5793 - val_loss: 1.1122 - val_accuracy: 0.5930\n",
      "Epoch 5/20\n",
      "175/175 [==============================] - 33s 188ms/step - loss: 1.1363 - accuracy: 0.5774 - val_loss: 1.1310 - val_accuracy: 0.5930\n",
      "Epoch 6/20\n",
      "175/175 [==============================] - 32s 186ms/step - loss: 1.1358 - accuracy: 0.5774 - val_loss: 1.1092 - val_accuracy: 0.5930\n",
      "Epoch 7/20\n",
      "175/175 [==============================] - 33s 188ms/step - loss: 1.1351 - accuracy: 0.5774 - val_loss: 1.1086 - val_accuracy: 0.5930\n",
      "Epoch 7: early stopping\n"
     ]
    }
   ],
   "source": [
    "np.random.seed(42)\n",
    "tf.random.set_seed(42)\n",
    "\n",
    "optimizer = keras.optimizers.Nadam(learning_rate=0.01)\n",
    "\n",
    "model.compile(loss=\"sparse_categorical_crossentropy\", optimizer=optimizer, metrics=['accuracy'])\n",
    "\n",
    "history = model.fit(train_x, train_y, epochs=20,\n",
    "                   validation_data = (test_x, test_y), callbacks=callback)"
   ]
  },
  {
   "cell_type": "code",
   "execution_count": 27,
   "metadata": {},
   "outputs": [
    {
     "name": "stdout",
     "output_type": "stream",
     "text": [
      "loss: 1.11\n",
      "accuracy: 59.30%\n"
     ]
    }
   ],
   "source": [
    "# Evaluate the model\n",
    "scores = model.evaluate(test_x, test_y, verbose=0)\n",
    "\n",
    "# Extract the accuracy from model.evaluate\n",
    "print(\"%s: %.2f\" % (model.metrics_names[0], scores[0]))\n",
    "print(\"%s: %.2f%%\" % (model.metrics_names[1], scores[1]*100))"
   ]
  },
  {
   "cell_type": "markdown",
   "metadata": {},
   "source": [
    "# Build a sequential shallow GRU Model (with only one GRU layer)"
   ]
  },
  {
   "cell_type": "code",
   "execution_count": 28,
   "metadata": {},
   "outputs": [],
   "source": [
    "n_steps = 80\n",
    "n_inputs = 1\n",
    "\n",
    "model = keras.models.Sequential([\n",
    "    keras.layers.GRU(5, input_shape=[n_steps, n_inputs]),\n",
    "    keras.layers.Dense(5, activation='softmax')\n",
    "])"
   ]
  },
  {
   "cell_type": "code",
   "execution_count": 29,
   "metadata": {
    "scrolled": true
   },
   "outputs": [
    {
     "name": "stdout",
     "output_type": "stream",
     "text": [
      "Epoch 1/20\n",
      "175/175 [==============================] - 18s 78ms/step - loss: 1.3909 - accuracy: 0.5384 - val_loss: 1.1463 - val_accuracy: 0.5930\n",
      "Epoch 2/20\n",
      "175/175 [==============================] - 13s 72ms/step - loss: 1.1473 - accuracy: 0.5774 - val_loss: 1.1148 - val_accuracy: 0.5930\n",
      "Epoch 3/20\n",
      "175/175 [==============================] - 12s 71ms/step - loss: 1.1257 - accuracy: 0.5774 - val_loss: 1.0945 - val_accuracy: 0.5930\n",
      "Epoch 4/20\n",
      "175/175 [==============================] - 13s 72ms/step - loss: 1.1071 - accuracy: 0.5770 - val_loss: 1.0739 - val_accuracy: 0.5921\n",
      "Epoch 5/20\n",
      "175/175 [==============================] - 13s 72ms/step - loss: 1.0874 - accuracy: 0.5721 - val_loss: 1.0678 - val_accuracy: 0.6013\n",
      "Epoch 6/20\n",
      "175/175 [==============================] - 12s 71ms/step - loss: 1.0755 - accuracy: 0.5791 - val_loss: 1.0475 - val_accuracy: 0.5942\n",
      "Epoch 7/20\n",
      "175/175 [==============================] - 12s 71ms/step - loss: 1.0681 - accuracy: 0.5845 - val_loss: 1.0423 - val_accuracy: 0.5984\n",
      "Epoch 8/20\n",
      "175/175 [==============================] - 13s 72ms/step - loss: 1.0634 - accuracy: 0.5897 - val_loss: 1.0406 - val_accuracy: 0.6122\n",
      "Epoch 9/20\n",
      "175/175 [==============================] - 12s 71ms/step - loss: 1.0601 - accuracy: 0.6032 - val_loss: 1.0358 - val_accuracy: 0.6106\n",
      "Epoch 10/20\n",
      "175/175 [==============================] - 13s 72ms/step - loss: 1.0567 - accuracy: 0.6041 - val_loss: 1.0423 - val_accuracy: 0.6139\n",
      "Epoch 11/20\n",
      "175/175 [==============================] - 13s 72ms/step - loss: 1.0554 - accuracy: 0.6131 - val_loss: 1.0328 - val_accuracy: 0.6143\n",
      "Epoch 12/20\n",
      "175/175 [==============================] - 13s 72ms/step - loss: 1.0528 - accuracy: 0.6140 - val_loss: 1.0315 - val_accuracy: 0.6131\n",
      "Epoch 13/20\n",
      "175/175 [==============================] - 12s 71ms/step - loss: 1.0505 - accuracy: 0.6163 - val_loss: 1.0302 - val_accuracy: 0.6135\n",
      "Epoch 14/20\n",
      "175/175 [==============================] - 13s 72ms/step - loss: 1.0490 - accuracy: 0.6158 - val_loss: 1.0284 - val_accuracy: 0.6139\n",
      "Epoch 15/20\n",
      "175/175 [==============================] - 13s 73ms/step - loss: 1.0466 - accuracy: 0.6156 - val_loss: 1.0258 - val_accuracy: 0.6160\n",
      "Epoch 16/20\n",
      "175/175 [==============================] - 13s 72ms/step - loss: 1.0438 - accuracy: 0.6163 - val_loss: 1.0234 - val_accuracy: 0.6160\n",
      "Epoch 17/20\n",
      "175/175 [==============================] - 13s 72ms/step - loss: 1.0396 - accuracy: 0.6190 - val_loss: 1.0187 - val_accuracy: 0.6152\n",
      "Epoch 18/20\n",
      "175/175 [==============================] - 13s 72ms/step - loss: 1.0299 - accuracy: 0.6211 - val_loss: 1.0065 - val_accuracy: 0.6227\n",
      "Epoch 19/20\n",
      "175/175 [==============================] - 13s 72ms/step - loss: 1.0019 - accuracy: 0.6237 - val_loss: 0.9790 - val_accuracy: 0.6143\n",
      "Epoch 20/20\n",
      "175/175 [==============================] - 13s 72ms/step - loss: 0.9521 - accuracy: 0.6199 - val_loss: 0.9297 - val_accuracy: 0.6139\n"
     ]
    }
   ],
   "source": [
    "np.random.seed(42)\n",
    "tf.random.set_seed(42)\n",
    "\n",
    "optimizer = keras.optimizers.Nadam(learning_rate=0.001)\n",
    "\n",
    "model.compile(loss=\"sparse_categorical_crossentropy\", optimizer=optimizer, metrics=['accuracy'])\n",
    "\n",
    "history = model.fit(train_x, train_y, epochs=20,\n",
    "                   validation_data = (test_x, test_y), callbacks=callback)"
   ]
  },
  {
   "cell_type": "code",
   "execution_count": 30,
   "metadata": {},
   "outputs": [
    {
     "name": "stdout",
     "output_type": "stream",
     "text": [
      "loss: 0.93\n",
      "accuracy: 61.39%\n"
     ]
    }
   ],
   "source": [
    "# Evaluate the model\n",
    "scores = model.evaluate(test_x, test_y, verbose=0)\n",
    "\n",
    "# Extract the accuracy from model.evaluate\n",
    "print(\"%s: %.2f\" % (model.metrics_names[0], scores[0]))\n",
    "print(\"%s: %.2f%%\" % (model.metrics_names[1], scores[1]*100))"
   ]
  },
  {
   "cell_type": "markdown",
   "metadata": {},
   "source": [
    "# Build a sequential deep GRU Model (with only two GRU layers)"
   ]
  },
  {
   "cell_type": "code",
   "execution_count": 31,
   "metadata": {},
   "outputs": [],
   "source": [
    "n_steps = 80\n",
    "n_inputs = 1\n",
    "\n",
    "model = keras.models.Sequential([\n",
    "    keras.layers.GRU(5, return_sequences=True, input_shape=[n_steps, n_inputs]),\n",
    "    keras.layers.GRU(5, return_sequences=True),\n",
    "    keras.layers.GRU(5, return_sequences=True),\n",
    "    keras.layers.GRU(5),\n",
    "    keras.layers.Dense(5, activation='softmax')\n",
    "])"
   ]
  },
  {
   "cell_type": "code",
   "execution_count": 32,
   "metadata": {},
   "outputs": [
    {
     "name": "stdout",
     "output_type": "stream",
     "text": [
      "Epoch 1/20\n",
      "175/175 [==============================] - 69s 298ms/step - loss: 1.1460 - accuracy: 0.5774 - val_loss: 1.0623 - val_accuracy: 0.5930\n",
      "Epoch 2/20\n",
      "175/175 [==============================] - 49s 278ms/step - loss: 0.9957 - accuracy: 0.6068 - val_loss: 0.9304 - val_accuracy: 0.5804\n",
      "Epoch 3/20\n",
      "175/175 [==============================] - 49s 280ms/step - loss: 0.7608 - accuracy: 0.7227 - val_loss: 0.6970 - val_accuracy: 0.7688\n",
      "Epoch 4/20\n",
      "175/175 [==============================] - 49s 278ms/step - loss: 0.6087 - accuracy: 0.8065 - val_loss: 0.8240 - val_accuracy: 0.7123\n",
      "Epoch 5/20\n",
      "175/175 [==============================] - 49s 279ms/step - loss: 0.5410 - accuracy: 0.8372 - val_loss: 0.5133 - val_accuracy: 0.8405\n",
      "Epoch 6/20\n",
      "175/175 [==============================] - 49s 279ms/step - loss: 0.5091 - accuracy: 0.8496 - val_loss: 0.5021 - val_accuracy: 0.8501\n",
      "Epoch 7/20\n",
      "175/175 [==============================] - 49s 278ms/step - loss: 0.4792 - accuracy: 0.8546 - val_loss: 1.1088 - val_accuracy: 0.6286\n",
      "Epoch 8/20\n",
      "175/175 [==============================] - 49s 278ms/step - loss: 0.4640 - accuracy: 0.8548 - val_loss: 0.5464 - val_accuracy: 0.8032\n",
      "Epoch 9/20\n",
      "175/175 [==============================] - 48s 277ms/step - loss: 0.4301 - accuracy: 0.8632 - val_loss: 0.4179 - val_accuracy: 0.8698\n",
      "Epoch 10/20\n",
      "175/175 [==============================] - 49s 278ms/step - loss: 0.4174 - accuracy: 0.8677 - val_loss: 0.4738 - val_accuracy: 0.8459\n",
      "Epoch 11/20\n",
      "175/175 [==============================] - 49s 279ms/step - loss: 0.4058 - accuracy: 0.8746 - val_loss: 0.3543 - val_accuracy: 0.9033\n",
      "Epoch 12/20\n",
      "175/175 [==============================] - 49s 279ms/step - loss: 0.3820 - accuracy: 0.8882 - val_loss: 1.1347 - val_accuracy: 0.6520\n",
      "Epoch 13/20\n",
      "175/175 [==============================] - 49s 279ms/step - loss: 0.4286 - accuracy: 0.8711 - val_loss: 0.3651 - val_accuracy: 0.8974\n",
      "Epoch 14/20\n",
      "175/175 [==============================] - 49s 281ms/step - loss: 0.3618 - accuracy: 0.8936 - val_loss: 0.3870 - val_accuracy: 0.8853\n",
      "Epoch 15/20\n",
      "175/175 [==============================] - 49s 278ms/step - loss: 0.3543 - accuracy: 0.8943 - val_loss: 0.4398 - val_accuracy: 0.8652\n",
      "Epoch 16/20\n",
      "175/175 [==============================] - 49s 281ms/step - loss: 0.3474 - accuracy: 0.8982 - val_loss: 0.4381 - val_accuracy: 0.8756\n",
      "Epoch 16: early stopping\n"
     ]
    }
   ],
   "source": [
    "np.random.seed(42)\n",
    "tf.random.set_seed(42)\n",
    "\n",
    "optimizer = keras.optimizers.Nadam(learning_rate=0.01)\n",
    "\n",
    "model.compile(loss=\"sparse_categorical_crossentropy\", optimizer=optimizer, metrics=['accuracy'])\n",
    "\n",
    "history = model.fit(train_x, train_y, epochs=20,\n",
    "                   validation_data = (test_x, test_y), callbacks=callback)"
   ]
  },
  {
   "cell_type": "code",
   "execution_count": 33,
   "metadata": {},
   "outputs": [
    {
     "name": "stdout",
     "output_type": "stream",
     "text": [
      "loss: 0.44\n",
      "accuracy: 87.56%\n"
     ]
    }
   ],
   "source": [
    "# Evaluate the model\n",
    "scores = model.evaluate(test_x, test_y, verbose=0)\n",
    "\n",
    "# Extract the accuracy from model.evaluate\n",
    "print(\"%s: %.2f\" % (model.metrics_names[0], scores[0]))\n",
    "print(\"%s: %.2f%%\" % (model.metrics_names[1], scores[1]*100))"
   ]
  },
  {
   "cell_type": "markdown",
   "metadata": {},
   "source": [
    "# Discussion"
   ]
  },
  {
   "cell_type": "markdown",
   "metadata": {},
   "source": [
    "## List the test values of each model you built"
   ]
  },
  {
   "cell_type": "raw",
   "metadata": {},
   "source": [
    "1. Cross Sectional Shallow Model = 93.89%\n",
    "2. Cross Sectional Deep Model = 88.65%\n",
    "3. LSTM Shallow Model = 60.89%\n",
    "4. LSTM Deep Model = 59.30%\n",
    "5. GRU Shallow Model = 61.39%\n",
    "6. GRU Deep Model = 87.56%"
   ]
  },
  {
   "cell_type": "markdown",
   "metadata": {},
   "source": [
    "## Which model performs the best and why?"
   ]
  },
  {
   "cell_type": "raw",
   "metadata": {},
   "source": [
    "The model that performed the best is the Cross Sectional Shallow Model.\n",
    "\n",
    "Our dataset is timeseries dataset and the timeflow is Row-Based. Meaning each row is a time in a sequence. Cross Sectional Shallow Model runs as column-based instead of row-based. Meaning, instead of runing row-by-row like the way the time sequence is set up, it runs column-by-column which is totally the opposite direction. \n",
    "\n",
    "So the reason the model was able to perform better than the other models is because it was able to find more patterns going column-by-column whereby the other models run row-by-row. "
   ]
  },
  {
   "cell_type": "markdown",
   "metadata": {},
   "source": [
    "## How does it compare to baseline? (0.5 points)"
   ]
  },
  {
   "cell_type": "raw",
   "metadata": {},
   "source": [
    "The baseline was 58%, and the model performed at 93.89%. This is an improvement of 35.89%!"
   ]
  }
 ],
 "metadata": {
  "kernelspec": {
   "display_name": "Python 3.9.7 ('base')",
   "language": "python",
   "name": "python3"
  },
  "language_info": {
   "codemirror_mode": {
    "name": "ipython",
    "version": 3
   },
   "file_extension": ".py",
   "mimetype": "text/x-python",
   "name": "python",
   "nbconvert_exporter": "python",
   "pygments_lexer": "ipython3",
   "version": "3.9.7"
  },
  "toc": {
   "base_numbering": 1,
   "nav_menu": {},
   "number_sections": false,
   "sideBar": true,
   "skip_h1_title": true,
   "title_cell": "Table of Contents",
   "title_sidebar": "Contents",
   "toc_cell": false,
   "toc_position": {},
   "toc_section_display": true,
   "toc_window_display": false
  },
  "vscode": {
   "interpreter": {
    "hash": "4e4a7e6519862ba49e55c4dc5518f35f3fa69743883c131a62833a150be791c4"
   }
  }
 },
 "nbformat": 4,
 "nbformat_minor": 2
}
